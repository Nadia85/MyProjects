{
 "cells": [
  {
   "cell_type": "markdown",
   "metadata": {},
   "source": [
    "# Text Data Normalization & Visualization using Tableau"
   ]
  },
  {
   "cell_type": "markdown",
   "metadata": {},
   "source": [
    "We need create a web dashboard prototype in Python that allows users to:\n",
    "\n",
    "- Create slicers and dicers\n",
    "- Filters by date range / ...\n",
    "- Show data both in table and plotted formats\n",
    "- Use paid_amount column for analysis and other columns for filters\n",
    "\n",
    "For that, the normalization of text values in columns is needed. We have to think about update this dashboard monthly and do not have time to normalize values manually."
   ]
  },
  {
   "cell_type": "code",
   "execution_count": 1,
   "metadata": {},
   "outputs": [],
   "source": [
    "import re\n",
    "\n",
    "import pandas as pd\n",
    "import numpy as np\n",
    "import seaborn as sns\n",
    "from matplotlib import pyplot as plt\n",
    "%matplotlib inline\n",
    "\n",
    "from sklearn.feature_extraction.text import CountVectorizer \n",
    "from scipy.spatial import distance"
   ]
  },
  {
   "cell_type": "code",
   "execution_count": 2,
   "metadata": {},
   "outputs": [],
   "source": [
    "def norm_service_cat(row):\n",
    "    row1 = row.replace('Specialists', 'Specialist')\n",
    "    for word in service_cat_words:\n",
    "        row2 = row1.replace(word, (word+\" \"))\n",
    "        row1 = row2\n",
    "    return row1.strip()"
   ]
  },
  {
   "cell_type": "code",
   "execution_count": 3,
   "metadata": {},
   "outputs": [],
   "source": [
    "def clear_speciality(row):\n",
    "    row1 = row.replace(\"\\t\",\"\").replace(\"&\",\" AND \").replace(\"/\", \" OR \").replace(\",\", \" \")\n",
    "    row2 = re.split(' - ', row1)\n",
    "    row3 = row2[-1]\n",
    "    row4 = re.split('[^a-z,]', row3)\n",
    "    row5 = []\n",
    "    row5.append([x for x in row4 if x])\n",
    "    row6 = \" \".join(row5[0])\n",
    "    return row6"
   ]
  },
  {
   "cell_type": "code",
   "execution_count": 4,
   "metadata": {},
   "outputs": [],
   "source": [
    "def replace_sinonim(row):\n",
    "    row1 = re.split(' ', row)\n",
    "    for x in row1:\n",
    "        if x in second:\n",
    "            row1[row1.index(x)] = first[second.index(x)]\n",
    "        row2 = ' '.join(row1)\n",
    "    return row2"
   ]
  },
  {
   "cell_type": "code",
   "execution_count": 5,
   "metadata": {},
   "outputs": [],
   "source": [
    "def transform_speciality(row):\n",
    "    if row in Second:        \n",
    "        return First[Second.index(row)]\n",
    "    else:\n",
    "        return row"
   ]
  },
  {
   "cell_type": "markdown",
   "metadata": {},
   "source": [
    "## 1. Data load"
   ]
  },
  {
   "cell_type": "code",
   "execution_count": 6,
   "metadata": {
    "scrolled": true
   },
   "outputs": [
    {
     "data": {
      "text/html": [
       "<div>\n",
       "<style scoped>\n",
       "    .dataframe tbody tr th:only-of-type {\n",
       "        vertical-align: middle;\n",
       "    }\n",
       "\n",
       "    .dataframe tbody tr th {\n",
       "        vertical-align: top;\n",
       "    }\n",
       "\n",
       "    .dataframe thead th {\n",
       "        text-align: right;\n",
       "    }\n",
       "</style>\n",
       "<table border=\"1\" class=\"dataframe\">\n",
       "  <thead>\n",
       "    <tr style=\"text-align: right;\">\n",
       "      <th></th>\n",
       "      <th>MONTH</th>\n",
       "      <th>SERVICE_CATEGORY</th>\n",
       "      <th>CLAIM_SPECIALTY</th>\n",
       "      <th>PAYER</th>\n",
       "      <th>PAID_AMOUNT</th>\n",
       "    </tr>\n",
       "  </thead>\n",
       "  <tbody>\n",
       "    <tr>\n",
       "      <th>0</th>\n",
       "      <td>201801</td>\n",
       "      <td>AncillaryFFS</td>\n",
       "      <td>NaN</td>\n",
       "      <td>Payer F</td>\n",
       "      <td>128438</td>\n",
       "    </tr>\n",
       "    <tr>\n",
       "      <th>1</th>\n",
       "      <td>201801</td>\n",
       "      <td>AncillaryFFS</td>\n",
       "      <td>NaN</td>\n",
       "      <td>Payer H</td>\n",
       "      <td>66624</td>\n",
       "    </tr>\n",
       "    <tr>\n",
       "      <th>2</th>\n",
       "      <td>201801</td>\n",
       "      <td>AncillaryFFS</td>\n",
       "      <td>NaN</td>\n",
       "      <td>Payer O</td>\n",
       "      <td>118108</td>\n",
       "    </tr>\n",
       "    <tr>\n",
       "      <th>3</th>\n",
       "      <td>201801</td>\n",
       "      <td>AncillaryFFS</td>\n",
       "      <td>NaN</td>\n",
       "      <td>Payer W</td>\n",
       "      <td>1073</td>\n",
       "    </tr>\n",
       "    <tr>\n",
       "      <th>4</th>\n",
       "      <td>201801</td>\n",
       "      <td>AncillaryFFS</td>\n",
       "      <td>ACH</td>\n",
       "      <td>Payer W</td>\n",
       "      <td>604</td>\n",
       "    </tr>\n",
       "  </tbody>\n",
       "</table>\n",
       "</div>"
      ],
      "text/plain": [
       "    MONTH SERVICE_CATEGORY CLAIM_SPECIALTY    PAYER  PAID_AMOUNT\n",
       "0  201801     AncillaryFFS             NaN  Payer F       128438\n",
       "1  201801     AncillaryFFS             NaN  Payer H        66624\n",
       "2  201801     AncillaryFFS             NaN  Payer O       118108\n",
       "3  201801     AncillaryFFS             NaN  Payer W         1073\n",
       "4  201801     AncillaryFFS             ACH  Payer W          604"
      ]
     },
     "execution_count": 6,
     "metadata": {},
     "output_type": "execute_result"
    }
   ],
   "source": [
    "data = pd.read_csv('claims_data.csv')\n",
    "data.head()"
   ]
  },
  {
   "cell_type": "code",
   "execution_count": 7,
   "metadata": {
    "scrolled": true
   },
   "outputs": [
    {
     "name": "stdout",
     "output_type": "stream",
     "text": [
      "<class 'pandas.core.frame.DataFrame'>\n",
      "RangeIndex: 52152 entries, 0 to 52151\n",
      "Data columns (total 5 columns):\n",
      " #   Column            Non-Null Count  Dtype \n",
      "---  ------            --------------  ----- \n",
      " 0   MONTH             52152 non-null  int64 \n",
      " 1   SERVICE_CATEGORY  52152 non-null  object\n",
      " 2   CLAIM_SPECIALTY   51901 non-null  object\n",
      " 3   PAYER             52152 non-null  object\n",
      " 4   PAID_AMOUNT       52152 non-null  int64 \n",
      "dtypes: int64(2), object(3)\n",
      "memory usage: 2.0+ MB\n"
     ]
    }
   ],
   "source": [
    "data.info()"
   ]
  },
  {
   "cell_type": "markdown",
   "metadata": {},
   "source": [
    "## 2. Year & Month normalize"
   ]
  },
  {
   "cell_type": "markdown",
   "metadata": {},
   "source": [
    "For further dashboard creating we need to take out the month and year in separate columns *MONTH* and *YEAR*"
   ]
  },
  {
   "cell_type": "code",
   "execution_count": 8,
   "metadata": {},
   "outputs": [],
   "source": [
    "data['MONTH'] = data['MONTH'].astype(str)\n",
    "data['YEAR'] = data['MONTH'].apply(lambda x : x[:4])\n",
    "data['MONTH'] = data['MONTH'].apply(lambda x : x[4:])"
   ]
  },
  {
   "cell_type": "code",
   "execution_count": 9,
   "metadata": {},
   "outputs": [
    {
     "data": {
      "text/plain": [
       "01    5284\n",
       "03    5261\n",
       "05    5250\n",
       "02    5126\n",
       "04    5020\n",
       "06    4835\n",
       "07    3650\n",
       "10    3611\n",
       "08    3603\n",
       "09    3541\n",
       "12    3490\n",
       "11    3470\n",
       "00      11\n",
       "Name: MONTH, dtype: int64"
      ]
     },
     "execution_count": 9,
     "metadata": {},
     "output_type": "execute_result"
    }
   ],
   "source": [
    "data['MONTH'].value_counts()"
   ]
  },
  {
   "cell_type": "code",
   "execution_count": 10,
   "metadata": {},
   "outputs": [],
   "source": [
    "# replace unvalid month with 'NA'\n",
    "data['MONTH'] = data['MONTH'].str.replace('00', 'NA', regex=True)"
   ]
  },
  {
   "cell_type": "code",
   "execution_count": 11,
   "metadata": {},
   "outputs": [
    {
     "data": {
      "text/plain": [
       "2019    21494\n",
       "2018    20778\n",
       "2020     9880\n",
       "Name: YEAR, dtype: int64"
      ]
     },
     "execution_count": 11,
     "metadata": {},
     "output_type": "execute_result"
    }
   ],
   "source": [
    "data['YEAR'].value_counts()"
   ]
  },
  {
   "cell_type": "code",
   "execution_count": 12,
   "metadata": {},
   "outputs": [
    {
     "data": {
      "text/html": [
       "<div>\n",
       "<style scoped>\n",
       "    .dataframe tbody tr th:only-of-type {\n",
       "        vertical-align: middle;\n",
       "    }\n",
       "\n",
       "    .dataframe tbody tr th {\n",
       "        vertical-align: top;\n",
       "    }\n",
       "\n",
       "    .dataframe thead th {\n",
       "        text-align: right;\n",
       "    }\n",
       "</style>\n",
       "<table border=\"1\" class=\"dataframe\">\n",
       "  <thead>\n",
       "    <tr style=\"text-align: right;\">\n",
       "      <th></th>\n",
       "      <th>MONTH</th>\n",
       "      <th>SERVICE_CATEGORY</th>\n",
       "      <th>CLAIM_SPECIALTY</th>\n",
       "      <th>PAYER</th>\n",
       "      <th>PAID_AMOUNT</th>\n",
       "      <th>YEAR</th>\n",
       "    </tr>\n",
       "  </thead>\n",
       "  <tbody>\n",
       "    <tr>\n",
       "      <th>0</th>\n",
       "      <td>01</td>\n",
       "      <td>AncillaryFFS</td>\n",
       "      <td>NaN</td>\n",
       "      <td>Payer F</td>\n",
       "      <td>128438</td>\n",
       "      <td>2018</td>\n",
       "    </tr>\n",
       "    <tr>\n",
       "      <th>1</th>\n",
       "      <td>01</td>\n",
       "      <td>AncillaryFFS</td>\n",
       "      <td>NaN</td>\n",
       "      <td>Payer H</td>\n",
       "      <td>66624</td>\n",
       "      <td>2018</td>\n",
       "    </tr>\n",
       "    <tr>\n",
       "      <th>2</th>\n",
       "      <td>01</td>\n",
       "      <td>AncillaryFFS</td>\n",
       "      <td>NaN</td>\n",
       "      <td>Payer O</td>\n",
       "      <td>118108</td>\n",
       "      <td>2018</td>\n",
       "    </tr>\n",
       "    <tr>\n",
       "      <th>3</th>\n",
       "      <td>01</td>\n",
       "      <td>AncillaryFFS</td>\n",
       "      <td>NaN</td>\n",
       "      <td>Payer W</td>\n",
       "      <td>1073</td>\n",
       "      <td>2018</td>\n",
       "    </tr>\n",
       "    <tr>\n",
       "      <th>4</th>\n",
       "      <td>01</td>\n",
       "      <td>AncillaryFFS</td>\n",
       "      <td>ACH</td>\n",
       "      <td>Payer W</td>\n",
       "      <td>604</td>\n",
       "      <td>2018</td>\n",
       "    </tr>\n",
       "  </tbody>\n",
       "</table>\n",
       "</div>"
      ],
      "text/plain": [
       "  MONTH SERVICE_CATEGORY CLAIM_SPECIALTY    PAYER  PAID_AMOUNT  YEAR\n",
       "0    01     AncillaryFFS             NaN  Payer F       128438  2018\n",
       "1    01     AncillaryFFS             NaN  Payer H        66624  2018\n",
       "2    01     AncillaryFFS             NaN  Payer O       118108  2018\n",
       "3    01     AncillaryFFS             NaN  Payer W         1073  2018\n",
       "4    01     AncillaryFFS             ACH  Payer W          604  2018"
      ]
     },
     "execution_count": 12,
     "metadata": {},
     "output_type": "execute_result"
    }
   ],
   "source": [
    "data.head()"
   ]
  },
  {
   "cell_type": "markdown",
   "metadata": {},
   "source": [
    "## 2. SERVICE_CATEGORY normalization"
   ]
  },
  {
   "cell_type": "code",
   "execution_count": 13,
   "metadata": {},
   "outputs": [
    {
     "data": {
      "text/plain": [
       "SpecialistsFFS        12296\n",
       "AncillaryFFS           9701\n",
       "InpatientServices      9424\n",
       "OutpatientServices     7582\n",
       "ERServices             3696\n",
       "ASCServices            2643\n",
       "SNFServices            2501\n",
       "SpecialistFFS          1684\n",
       "PCPFFS                 1403\n",
       "PCPEncounter           1222\n",
       "Name: SERVICE_CATEGORY, dtype: int64"
      ]
     },
     "execution_count": 13,
     "metadata": {},
     "output_type": "execute_result"
    }
   ],
   "source": [
    "data['SERVICE_CATEGORY'].value_counts()"
   ]
  },
  {
   "cell_type": "markdown",
   "metadata": {},
   "source": [
    "Let's decompose the phrases into simple words, create a list of these words and use it to normalize *SERVICE_CATEGORY*."
   ]
  },
  {
   "cell_type": "code",
   "execution_count": 14,
   "metadata": {
    "scrolled": true
   },
   "outputs": [],
   "source": [
    "service_cat_words = ['Ancillary', \n",
    "                     'ASC', \n",
    "                     'Encounter', \n",
    "                     'ER', \n",
    "                     'FFS', \n",
    "                     'Inpatient', \n",
    "                     'Outpatient', \n",
    "                     'Services', \n",
    "                     'SNF', \n",
    "                     'Specialist', \n",
    "                     'PCP']"
   ]
  },
  {
   "cell_type": "code",
   "execution_count": 15,
   "metadata": {},
   "outputs": [],
   "source": [
    "data['SERVICE_CATEGORY'] = data['SERVICE_CATEGORY'].apply(norm_service_cat)"
   ]
  },
  {
   "cell_type": "code",
   "execution_count": 16,
   "metadata": {},
   "outputs": [
    {
     "data": {
      "text/html": [
       "<div>\n",
       "<style scoped>\n",
       "    .dataframe tbody tr th:only-of-type {\n",
       "        vertical-align: middle;\n",
       "    }\n",
       "\n",
       "    .dataframe tbody tr th {\n",
       "        vertical-align: top;\n",
       "    }\n",
       "\n",
       "    .dataframe thead th {\n",
       "        text-align: right;\n",
       "    }\n",
       "</style>\n",
       "<table border=\"1\" class=\"dataframe\">\n",
       "  <thead>\n",
       "    <tr style=\"text-align: right;\">\n",
       "      <th></th>\n",
       "      <th>MONTH</th>\n",
       "      <th>SERVICE_CATEGORY</th>\n",
       "      <th>CLAIM_SPECIALTY</th>\n",
       "      <th>PAYER</th>\n",
       "      <th>PAID_AMOUNT</th>\n",
       "      <th>YEAR</th>\n",
       "    </tr>\n",
       "  </thead>\n",
       "  <tbody>\n",
       "    <tr>\n",
       "      <th>0</th>\n",
       "      <td>01</td>\n",
       "      <td>Ancillary FFS</td>\n",
       "      <td>NaN</td>\n",
       "      <td>Payer F</td>\n",
       "      <td>128438</td>\n",
       "      <td>2018</td>\n",
       "    </tr>\n",
       "    <tr>\n",
       "      <th>1</th>\n",
       "      <td>01</td>\n",
       "      <td>Ancillary FFS</td>\n",
       "      <td>NaN</td>\n",
       "      <td>Payer H</td>\n",
       "      <td>66624</td>\n",
       "      <td>2018</td>\n",
       "    </tr>\n",
       "    <tr>\n",
       "      <th>2</th>\n",
       "      <td>01</td>\n",
       "      <td>Ancillary FFS</td>\n",
       "      <td>NaN</td>\n",
       "      <td>Payer O</td>\n",
       "      <td>118108</td>\n",
       "      <td>2018</td>\n",
       "    </tr>\n",
       "    <tr>\n",
       "      <th>3</th>\n",
       "      <td>01</td>\n",
       "      <td>Ancillary FFS</td>\n",
       "      <td>NaN</td>\n",
       "      <td>Payer W</td>\n",
       "      <td>1073</td>\n",
       "      <td>2018</td>\n",
       "    </tr>\n",
       "    <tr>\n",
       "      <th>4</th>\n",
       "      <td>01</td>\n",
       "      <td>Ancillary FFS</td>\n",
       "      <td>ACH</td>\n",
       "      <td>Payer W</td>\n",
       "      <td>604</td>\n",
       "      <td>2018</td>\n",
       "    </tr>\n",
       "  </tbody>\n",
       "</table>\n",
       "</div>"
      ],
      "text/plain": [
       "  MONTH SERVICE_CATEGORY CLAIM_SPECIALTY    PAYER  PAID_AMOUNT  YEAR\n",
       "0    01    Ancillary FFS             NaN  Payer F       128438  2018\n",
       "1    01    Ancillary FFS             NaN  Payer H        66624  2018\n",
       "2    01    Ancillary FFS             NaN  Payer O       118108  2018\n",
       "3    01    Ancillary FFS             NaN  Payer W         1073  2018\n",
       "4    01    Ancillary FFS             ACH  Payer W          604  2018"
      ]
     },
     "execution_count": 16,
     "metadata": {},
     "output_type": "execute_result"
    }
   ],
   "source": [
    "data.head()"
   ]
  },
  {
   "cell_type": "markdown",
   "metadata": {},
   "source": [
    "## 3. CLAIM_SPECIALTY normalization"
   ]
  },
  {
   "cell_type": "code",
   "execution_count": 17,
   "metadata": {},
   "outputs": [
    {
     "data": {
      "text/plain": [
       "INTERNAL MEDICINE                                     1227\n",
       "FAMILY PRACTICE                                       1128\n",
       "GENERAL PRACTICE                                       949\n",
       "GENERAL SURGERY                                        806\n",
       "PATHOLOGY                                              772\n",
       "                                                      ... \n",
       "Pathology - Clinical Pathology/Laboratory Medicine       1\n",
       "PREVENTIVE MEDICINE - ADDICTION MEDICINE                 1\n",
       "ORTHOTICS/PROS FITTE                                     1\n",
       "Nurse Practitioner - Obstetrics & Gynecology\\t           1\n",
       "Neonatology                                              1\n",
       "Name: CLAIM_SPECIALTY, Length: 905, dtype: int64"
      ]
     },
     "execution_count": 17,
     "metadata": {},
     "output_type": "execute_result"
    }
   ],
   "source": [
    "data['CLAIM_SPECIALTY'].value_counts()"
   ]
  },
  {
   "cell_type": "markdown",
   "metadata": {},
   "source": [
    "At first sight, we have 905 different categories. First, let's try to clean up a little our data: we will bring it to a single register, remove unnecessary characters, also in the lines where the subcategory is indicated, for example: *Internal Medicine - Cardiovascular Disease*, we will leave only the last component: *Cardiovascular Disease.*"
   ]
  },
  {
   "cell_type": "code",
   "execution_count": 18,
   "metadata": {},
   "outputs": [],
   "source": [
    "data['CLAIM_SPECIALTY'].fillna('unknown',inplace=True)\n",
    "data['CLAIM_SPECIALTY'] = data['CLAIM_SPECIALTY'].str.lower()"
   ]
  },
  {
   "cell_type": "code",
   "execution_count": 19,
   "metadata": {
    "scrolled": true
   },
   "outputs": [
    {
     "data": {
      "text/plain": [
       "internal medicine               1730\n",
       "family practice                 1512\n",
       "radiology                       1180\n",
       "general practice                1132\n",
       "gastroenterology                1115\n",
       "                                ... \n",
       "peder                              1\n",
       "neurdi                             1\n",
       "pediatric nurse practitioner       1\n",
       "psynur                             1\n",
       "registered                         1\n",
       "Name: CLAIM_SPECIALTY, Length: 740, dtype: int64"
      ]
     },
     "execution_count": 19,
     "metadata": {},
     "output_type": "execute_result"
    }
   ],
   "source": [
    "data['CLAIM_SPECIALTY'] = data['CLAIM_SPECIALTY'].apply(clear_speciality)\n",
    "data['CLAIM_SPECIALTY'].value_counts()"
   ]
  },
  {
   "cell_type": "markdown",
   "metadata": {},
   "source": [
    "Now there are 740 categories. A closer look shows that many words are very similar, some words are simply cut off. Let's try to identify such \"synonyms\". Let's make a list of all words and words with a length of at least 6 characters will be considered synonyms if the first 5 letters in the word match."
   ]
  },
  {
   "cell_type": "code",
   "execution_count": 20,
   "metadata": {
    "scrolled": true
   },
   "outputs": [
    {
     "name": "stdout",
     "output_type": "stream",
     "text": [
      "Total specialities:  740\n"
     ]
    },
    {
     "data": {
      "text/plain": [
       "['internal medicine',\n",
       " 'family practice',\n",
       " 'radiology',\n",
       " 'general practice',\n",
       " 'gastroenterology',\n",
       " 'pathology',\n",
       " 'general surgery',\n",
       " 'cardiology',\n",
       " 'anesthesiology',\n",
       " 'orthopedic surgery']"
      ]
     },
     "execution_count": 20,
     "metadata": {},
     "output_type": "execute_result"
    }
   ],
   "source": [
    "# list of all encountered specializations\n",
    "\n",
    "spec_list1 = list(data['CLAIM_SPECIALTY'].value_counts().index)\n",
    "print('Total specialities: ', len(spec_list1))\n",
    "spec_list1[:10]"
   ]
  },
  {
   "cell_type": "code",
   "execution_count": 21,
   "metadata": {},
   "outputs": [
    {
     "name": "stdout",
     "output_type": "stream",
     "text": [
      "Total words in specialities:  577\n"
     ]
    },
    {
     "data": {
      "text/plain": [
       "['abulatory',\n",
       " 'abuse',\n",
       " 'access',\n",
       " 'accup',\n",
       " 'ach',\n",
       " 'acupu',\n",
       " 'acupuncturist',\n",
       " 'acute',\n",
       " 'addiction',\n",
       " 'addmed']"
      ]
     },
     "execution_count": 21,
     "metadata": {},
     "output_type": "execute_result"
    }
   ],
   "source": [
    "# list of all encountered words of specializations\n",
    "\n",
    "vectorizer1 = CountVectorizer()     # unigrams\n",
    "X1 = vectorizer1.fit_transform(spec_list1)\n",
    "word_list1 = vectorizer1.get_feature_names()\n",
    "print('Total words in specialities: ', len(word_list1))\n",
    "word_list1[:10]"
   ]
  },
  {
   "cell_type": "code",
   "execution_count": 22,
   "metadata": {},
   "outputs": [
    {
     "name": "stdout",
     "output_type": "stream",
     "text": [
      "Total words with lenght > 6:  263\n"
     ]
    }
   ],
   "source": [
    "# select words with a length of at least 6 letters for reliability\n",
    "\n",
    "words6 = []\n",
    "for word in word_list1:\n",
    "    if len(word)>6:\n",
    "        words6.append(word)\n",
    "print('Total words with lenght > 6: ',len(words6))"
   ]
  },
  {
   "cell_type": "code",
   "execution_count": 23,
   "metadata": {},
   "outputs": [
    {
     "name": "stdout",
     "output_type": "stream",
     "text": [
      "92\n"
     ]
    }
   ],
   "source": [
    "# Find words that match the first 5 letters and write out their pairs\n",
    "\n",
    "first = []\n",
    "second = []\n",
    "for i in range(len(words6)):\n",
    "    for j in range(i+1, len(words6)):\n",
    "        if (words6[i][:5] == words6[j][:5]) and (words6[j] not in second):\n",
    "            first.append(words6[i])\n",
    "            second.append(words6[j])\n",
    "print(len(first))"
   ]
  },
  {
   "cell_type": "markdown",
   "metadata": {},
   "source": [
    "Let's see how it works on the example of the first 10 \"synonyms\":"
   ]
  },
  {
   "cell_type": "code",
   "execution_count": 24,
   "metadata": {
    "scrolled": true
   },
   "outputs": [
    {
     "name": "stdout",
     "output_type": "stream",
     "text": [
      "ambulance       ambulatory\n",
      "anesthesia       anesthesiologist\n",
      "anesthesia       anesthesiology\n",
      "anesthesia       anesthetist\n",
      "audiologist       audiology\n",
      "audiologist       audiometry\n",
      "behavior       behavioral\n",
      "cardiac       cardiatric\n",
      "cardiac       cardiologist\n",
      "cardiac       cardiology\n"
     ]
    }
   ],
   "source": [
    "for a, b in zip(first[:10], second[:10]):\n",
    "    print(a, '     ', b)"
   ]
  },
  {
   "cell_type": "markdown",
   "metadata": {},
   "source": [
    "Replace words from the second list with words from the first list."
   ]
  },
  {
   "cell_type": "code",
   "execution_count": 25,
   "metadata": {
    "scrolled": true
   },
   "outputs": [
    {
     "data": {
      "text/plain": [
       "internal medical                  1730\n",
       "family practice                   1512\n",
       "neurological                      1449\n",
       "hospice                           1440\n",
       "radiology                         1180\n",
       "                                  ... \n",
       "nponc                                1\n",
       "hep                                  1\n",
       "blood bank transfu                   1\n",
       "neonatology                          1\n",
       "registered nurse private nurse       1\n",
       "Name: CLAIM_SPECIALTY, Length: 696, dtype: int64"
      ]
     },
     "execution_count": 25,
     "metadata": {},
     "output_type": "execute_result"
    }
   ],
   "source": [
    "data['CLAIM_SPECIALTY'] = data['CLAIM_SPECIALTY'].apply(replace_sinonim)\n",
    "data['CLAIM_SPECIALTY'].value_counts()"
   ]
  },
  {
   "cell_type": "markdown",
   "metadata": {},
   "source": [
    "There are less categories, but not much less (696 instead of 740). Some of them just differ in the words order among themselves. Let's try to find them using the cosine measure."
   ]
  },
  {
   "cell_type": "code",
   "execution_count": 26,
   "metadata": {},
   "outputs": [
    {
     "name": "stdout",
     "output_type": "stream",
     "text": [
      "Total specialities now:  696\n"
     ]
    }
   ],
   "source": [
    "spec_list2 = list(data['CLAIM_SPECIALTY'].value_counts().index)\n",
    "print('Total specialities now: ', len(spec_list2))"
   ]
  },
  {
   "cell_type": "code",
   "execution_count": 27,
   "metadata": {},
   "outputs": [
    {
     "data": {
      "text/plain": [
       "(696, 485)"
      ]
     },
     "execution_count": 27,
     "metadata": {},
     "output_type": "execute_result"
    }
   ],
   "source": [
    "vectorizer2 = CountVectorizer()     # unigrams\n",
    "X2 = vectorizer2.fit_transform(spec_list2)\n",
    "words2 = vectorizer2.get_feature_names()\n",
    "\n",
    "vectors2 = X2.toarray()\n",
    "vectors2.shape"
   ]
  },
  {
   "cell_type": "markdown",
   "metadata": {},
   "source": [
    "Let's detach out categories with cosine measure <0.3 that means the categories are similar"
   ]
  },
  {
   "cell_type": "code",
   "execution_count": 28,
   "metadata": {
    "scrolled": true
   },
   "outputs": [
    {
     "name": "stdout",
     "output_type": "stream",
     "text": [
      "Total similar categories:  472\n"
     ]
    }
   ],
   "source": [
    "First = []\n",
    "Second = []\n",
    "Dist = []\n",
    "for i in range(len(spec_list2)):\n",
    "    for j in range(i+1, len(spec_list2)):\n",
    "        cosi = distance.cosine(vectors2[i], vectors2[j])\n",
    "        if (cosi < 0.3):\n",
    "            First.append(spec_list2[i])\n",
    "            Second.append(spec_list2[j])\n",
    "            Dist.append(cosi)\n",
    "print('Total similar categories: ', len(Dist))"
   ]
  },
  {
   "cell_type": "markdown",
   "metadata": {},
   "source": [
    "Let's see how it works on the example:"
   ]
  },
  {
   "cell_type": "code",
   "execution_count": 29,
   "metadata": {
    "scrolled": true
   },
   "outputs": [
    {
     "name": "stdout",
     "output_type": "stream",
     "text": [
      "internal medical       physical internal medical       0.18350341907227385\n",
      "internal medical       endocrinology internal medical       0.18350341907227385\n",
      "internal medical       rheumatology internal medical       0.18350341907227385\n",
      "internal medical       oncologic internal medical       0.18350341907227385\n",
      "internal medical       internal pain medical       0.18350341907227385\n",
      "internal medical       internal medical geriatric       0.18350341907227385\n",
      "internal medical       medical       0.29289321881345254\n",
      "family practice       family nurse practice       0.18350341907227385\n",
      "family practice       family       0.29289321881345254\n",
      "family practice       family practice nurse prac       0.29289321881345254\n"
     ]
    }
   ],
   "source": [
    "for a, b, c in zip(First[:10], Second[:10], Dist[:10]):\n",
    "    print(a, '     ', b, '     ', c)"
   ]
  },
  {
   "cell_type": "markdown",
   "metadata": {},
   "source": [
    "Let's replace the categories from the *Second* list with the categories from the *First* list"
   ]
  },
  {
   "cell_type": "code",
   "execution_count": 30,
   "metadata": {},
   "outputs": [
    {
     "data": {
      "text/plain": [
       "CARDIAC                     2912\n",
       "RADIOLOGY                   2313\n",
       "INTERNAL MEDICAL            1889\n",
       "FAMILY PRACTICE             1764\n",
       "NEUROLOGICAL                1736\n",
       "                            ... \n",
       "LTCH                           1\n",
       "TBICRS                         1\n",
       "GENET                          1\n",
       "LARYNGOLOGY                    1\n",
       "BEHAVIOR HEALTH FACILITY       1\n",
       "Name: CLAIM_SPECIALTY, Length: 448, dtype: int64"
      ]
     },
     "execution_count": 30,
     "metadata": {},
     "output_type": "execute_result"
    }
   ],
   "source": [
    "data['CLAIM_SPECIALTY'] = data['CLAIM_SPECIALTY'].apply(transform_speciality)\n",
    "data['CLAIM_SPECIALTY'] = data['CLAIM_SPECIALTY'].str.upper()\n",
    "data['CLAIM_SPECIALTY'].value_counts()"
   ]
  },
  {
   "cell_type": "markdown",
   "metadata": {},
   "source": [
    "Now there are 448 categories yet. Let's replace rare categories with 'OTHER SPECIALITY'"
   ]
  },
  {
   "cell_type": "code",
   "execution_count": 31,
   "metadata": {
    "scrolled": false
   },
   "outputs": [
    {
     "name": "stdout",
     "output_type": "stream",
     "text": [
      "Total categories that occur more than 10 times:  246\n"
     ]
    },
    {
     "data": {
      "text/plain": [
       "['CARDIAC',\n",
       " 'RADIOLOGY',\n",
       " 'INTERNAL MEDICAL',\n",
       " 'FAMILY PRACTICE',\n",
       " 'NEUROLOGICAL',\n",
       " 'HEMATOLOGY ONCOLOGIC',\n",
       " 'HOSPICE',\n",
       " 'ANESTHESIA',\n",
       " 'GENERAL PRACTICE',\n",
       " 'PATHOLOG']"
      ]
     },
     "execution_count": 31,
     "metadata": {},
     "output_type": "execute_result"
    }
   ],
   "source": [
    "# Most popular CLAIM_SPECIALTY > S\n",
    "\n",
    "S = 10  # frequency of popularity\n",
    "spec_list3 = list((data['CLAIM_SPECIALTY'].value_counts()[(data['CLAIM_SPECIALTY'].value_counts())>S]).index)\n",
    "print('Total categories that occur more than 10 times: ', len(spec_list3))\n",
    "spec_list3[:10]"
   ]
  },
  {
   "cell_type": "code",
   "execution_count": 32,
   "metadata": {},
   "outputs": [
    {
     "data": {
      "text/plain": [
       "CARDIAC                                   2912\n",
       "RADIOLOGY                                 2313\n",
       "INTERNAL MEDICAL                          1889\n",
       "FAMILY PRACTICE                           1764\n",
       "NEUROLOGICAL                              1736\n",
       "                                          ... \n",
       "GERPSY                                      11\n",
       "GERIATRIC MEDICAL                           11\n",
       "UROONC                                      11\n",
       "OCCUPATIONAL MEDICAL                        11\n",
       "END STAGE RENAL DISEASE ESRD TREATMENT      11\n",
       "Name: CLAIM_SPECIALTY, Length: 247, dtype: int64"
      ]
     },
     "execution_count": 32,
     "metadata": {},
     "output_type": "execute_result"
    }
   ],
   "source": [
    "data['CLAIM_SPECIALTY'] = data['CLAIM_SPECIALTY'].apply(lambda x: x if x in spec_list3 else  'OTHER SPECIALITY' )\n",
    "data['CLAIM_SPECIALTY'].value_counts()"
   ]
  },
  {
   "cell_type": "markdown",
   "metadata": {},
   "source": [
    "The total number of categories has become 247. You can change the frequency threshold depending on how much you can cut this parameter for further visualization."
   ]
  },
  {
   "cell_type": "markdown",
   "metadata": {},
   "source": [
    "## 4. PAYER normalization"
   ]
  },
  {
   "cell_type": "code",
   "execution_count": 33,
   "metadata": {
    "scrolled": true
   },
   "outputs": [
    {
     "data": {
      "text/plain": [
       "Payer F     9020\n",
       "Payer CA    8681\n",
       "Payer W     7105\n",
       "Payer UN    6526\n",
       "Payer O     6278\n",
       "Payer S     4189\n",
       "Payer CO    3677\n",
       "Payer B     3631\n",
       "Payer H     2360\n",
       "Payer UL     685\n",
       "Name: PAYER, dtype: int64"
      ]
     },
     "execution_count": 33,
     "metadata": {},
     "output_type": "execute_result"
    }
   ],
   "source": [
    "data['PAYER'].value_counts()"
   ]
  },
  {
   "cell_type": "markdown",
   "metadata": {},
   "source": [
    "Just remove *Payer*"
   ]
  },
  {
   "cell_type": "code",
   "execution_count": 34,
   "metadata": {},
   "outputs": [],
   "source": [
    "data['PAYER'] = data['PAYER'].str.replace('Payer ', '', regex=True)"
   ]
  },
  {
   "cell_type": "code",
   "execution_count": 35,
   "metadata": {
    "scrolled": true
   },
   "outputs": [
    {
     "data": {
      "text/html": [
       "<div>\n",
       "<style scoped>\n",
       "    .dataframe tbody tr th:only-of-type {\n",
       "        vertical-align: middle;\n",
       "    }\n",
       "\n",
       "    .dataframe tbody tr th {\n",
       "        vertical-align: top;\n",
       "    }\n",
       "\n",
       "    .dataframe thead th {\n",
       "        text-align: right;\n",
       "    }\n",
       "</style>\n",
       "<table border=\"1\" class=\"dataframe\">\n",
       "  <thead>\n",
       "    <tr style=\"text-align: right;\">\n",
       "      <th></th>\n",
       "      <th>MONTH</th>\n",
       "      <th>SERVICE_CATEGORY</th>\n",
       "      <th>CLAIM_SPECIALTY</th>\n",
       "      <th>PAYER</th>\n",
       "      <th>PAID_AMOUNT</th>\n",
       "      <th>YEAR</th>\n",
       "    </tr>\n",
       "  </thead>\n",
       "  <tbody>\n",
       "    <tr>\n",
       "      <th>0</th>\n",
       "      <td>01</td>\n",
       "      <td>Ancillary FFS</td>\n",
       "      <td>UNKNOWN</td>\n",
       "      <td>F</td>\n",
       "      <td>128438</td>\n",
       "      <td>2018</td>\n",
       "    </tr>\n",
       "    <tr>\n",
       "      <th>1</th>\n",
       "      <td>01</td>\n",
       "      <td>Ancillary FFS</td>\n",
       "      <td>UNKNOWN</td>\n",
       "      <td>H</td>\n",
       "      <td>66624</td>\n",
       "      <td>2018</td>\n",
       "    </tr>\n",
       "    <tr>\n",
       "      <th>2</th>\n",
       "      <td>01</td>\n",
       "      <td>Ancillary FFS</td>\n",
       "      <td>UNKNOWN</td>\n",
       "      <td>O</td>\n",
       "      <td>118108</td>\n",
       "      <td>2018</td>\n",
       "    </tr>\n",
       "    <tr>\n",
       "      <th>3</th>\n",
       "      <td>01</td>\n",
       "      <td>Ancillary FFS</td>\n",
       "      <td>UNKNOWN</td>\n",
       "      <td>W</td>\n",
       "      <td>1073</td>\n",
       "      <td>2018</td>\n",
       "    </tr>\n",
       "    <tr>\n",
       "      <th>4</th>\n",
       "      <td>01</td>\n",
       "      <td>Ancillary FFS</td>\n",
       "      <td>OTHER SPECIALITY</td>\n",
       "      <td>W</td>\n",
       "      <td>604</td>\n",
       "      <td>2018</td>\n",
       "    </tr>\n",
       "  </tbody>\n",
       "</table>\n",
       "</div>"
      ],
      "text/plain": [
       "  MONTH SERVICE_CATEGORY   CLAIM_SPECIALTY PAYER  PAID_AMOUNT  YEAR\n",
       "0    01    Ancillary FFS           UNKNOWN     F       128438  2018\n",
       "1    01    Ancillary FFS           UNKNOWN     H        66624  2018\n",
       "2    01    Ancillary FFS           UNKNOWN     O       118108  2018\n",
       "3    01    Ancillary FFS           UNKNOWN     W         1073  2018\n",
       "4    01    Ancillary FFS  OTHER SPECIALITY     W          604  2018"
      ]
     },
     "execution_count": 35,
     "metadata": {},
     "output_type": "execute_result"
    }
   ],
   "source": [
    "data.head()"
   ]
  },
  {
   "cell_type": "markdown",
   "metadata": {},
   "source": [
    "Csv exported for further visualization."
   ]
  },
  {
   "cell_type": "markdown",
   "metadata": {},
   "source": [
    "## 5. Data export"
   ]
  },
  {
   "cell_type": "code",
   "execution_count": 36,
   "metadata": {},
   "outputs": [],
   "source": [
    "data.to_csv('claims_export.csv')"
   ]
  },
  {
   "cell_type": "markdown",
   "metadata": {},
   "source": [
    "## 6. Data Visualization"
   ]
  },
  {
   "cell_type": "markdown",
   "metadata": {},
   "source": [
    "After processing, the data was visualized using Tableau tool [Link](https://public.tableau.com/views/Test_Task2/Dashboard3?:language=en-GB&:display_count=y&publish=yes&:origin=viz_share_link)"
   ]
  }
 ],
 "metadata": {
  "kernelspec": {
   "display_name": "Python 3",
   "language": "python",
   "name": "python3"
  },
  "language_info": {
   "codemirror_mode": {
    "name": "ipython",
    "version": 3
   },
   "file_extension": ".py",
   "mimetype": "text/x-python",
   "name": "python",
   "nbconvert_exporter": "python",
   "pygments_lexer": "ipython3",
   "version": "3.7.4"
  }
 },
 "nbformat": 4,
 "nbformat_minor": 4
}
